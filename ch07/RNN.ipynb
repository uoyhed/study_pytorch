{
 "cells": [
  {
   "cell_type": "markdown",
   "id": "5904e01f",
   "metadata": {},
   "source": [
    "# 순환 신경망 (RNN)"
   ]
  },
  {
   "cell_type": "markdown",
   "id": "6aff3d50",
   "metadata": {},
   "source": [
    "## 1) RNN"
   ]
  },
  {
   "cell_type": "code",
   "execution_count": 1,
   "id": "93053e22",
   "metadata": {},
   "outputs": [
    {
     "ename": "NameError",
     "evalue": "name 'nn' is not defined",
     "output_type": "error",
     "traceback": [
      "\u001b[1;31m---------------------------------------------------------------------------\u001b[0m",
      "\u001b[1;31mNameError\u001b[0m                                 Traceback (most recent call last)",
      "Cell \u001b[1;32mIn[1], line 2\u001b[0m\n\u001b[0;32m      1\u001b[0m \u001b[38;5;66;03m# 다대일 예시\u001b[39;00m\n\u001b[1;32m----> 2\u001b[0m \u001b[38;5;28mself\u001b[39m\u001b[38;5;241m.\u001b[39mem \u001b[38;5;241m=\u001b[39m \u001b[43mnn\u001b[49m\u001b[38;5;241m.\u001b[39mEmbedding(\u001b[38;5;28mlen\u001b[39m(TEXT\u001b[38;5;241m.\u001b[39mvocab\u001b[38;5;241m.\u001b[39mstoi), embedding_dim) \u001b[38;5;66;03m# 임배딩 처리\u001b[39;00m\n\u001b[0;32m      3\u001b[0m \u001b[38;5;28mself\u001b[39m\u001b[38;5;241m.\u001b[39mrnn \u001b[38;5;241m=\u001b[39m nn\u001b[38;5;241m.\u001b[39mRNNCell(input_dim, hidden_size) \u001b[38;5;66;03m# RNN 적용\u001b[39;00m\n\u001b[0;32m      4\u001b[0m \u001b[38;5;28mself\u001b[39m\u001b[38;5;241m.\u001b[39mfc1 \u001b[38;5;241m=\u001b[39m nn\u001b[38;5;241m.\u001b[39mLinear(hidden_size, \u001b[38;5;241m256\u001b[39m) \u001b[38;5;66;03m# 완전연결층\u001b[39;00m\n",
      "\u001b[1;31mNameError\u001b[0m: name 'nn' is not defined"
     ]
    }
   ],
   "source": [
    "# 다대일 예시\n",
    "# 입력과 출력 사이에 하나의 RNN 셀이 있는 경우\n",
    "self.em = nn.Embedding(len(TEXT.vocab.stoi), embedding_dim) # 임배딩 처리\n",
    "self.rnn = nn.RNNCell(input_dim, hidden_size) # RNN 적용\n",
    "self.fc1 = nn.Linear(hidden_size, 256) # 완전연결층\n",
    "self.fc2 = nn.Linear(256, 3) # 출력층"
   ]
  },
  {
   "cell_type": "code",
   "execution_count": 2,
   "id": "81eb65f2",
   "metadata": {},
   "outputs": [
    {
     "ename": "NameError",
     "evalue": "name 'keras' is not defined",
     "output_type": "error",
     "traceback": [
      "\u001b[1;31m---------------------------------------------------------------------------\u001b[0m",
      "\u001b[1;31mNameError\u001b[0m                                 Traceback (most recent call last)",
      "Cell \u001b[1;32mIn[2], line 3\u001b[0m\n\u001b[0;32m      1\u001b[0m \u001b[38;5;66;03m# 다대다 예시\u001b[39;00m\n\u001b[0;32m      2\u001b[0m \u001b[38;5;66;03m# tensorflow\u001b[39;00m\n\u001b[1;32m----> 3\u001b[0m \u001b[43mkeras\u001b[49m\u001b[38;5;241m.\u001b[39mlayers\u001b[38;5;241m.\u001b[39mSimpleRNN(\u001b[38;5;241m100\u001b[39m, return_sequences\u001b[38;5;241m=\u001b[39m\u001b[38;5;28;01mTrue\u001b[39;00m, name\u001b[38;5;241m=\u001b[39m\u001b[38;5;124m'\u001b[39m\u001b[38;5;124mRNN\u001b[39m\u001b[38;5;124m'\u001b[39m) \u001b[38;5;66;03m# return_sequences=True 옵션으로 시퀀스를 리턴\u001b[39;00m\n\u001b[0;32m      5\u001b[0m \u001b[38;5;66;03m# 파이토치 // seq2seq 이용\u001b[39;00m\n",
      "\u001b[1;31mNameError\u001b[0m: name 'keras' is not defined"
     ]
    }
   ],
   "source": [
    "# 다대다 예시\n",
    "# tensorflow\n",
    "keras.layers.SimpleRNN(100, return_sequences=True, name='RNN') # return_sequences=True 옵션으로 시퀀스를 리턴\n",
    "\n",
    "# 파이토치 // seq2seq 이용"
   ]
  },
  {
   "cell_type": "code",
   "execution_count": null,
   "id": "cc23a0bb",
   "metadata": {},
   "outputs": [],
   "source": []
  }
 ],
 "metadata": {
  "kernelspec": {
   "display_name": "Python 3 (ipykernel)",
   "language": "python",
   "name": "python3"
  },
  "language_info": {
   "codemirror_mode": {
    "name": "ipython",
    "version": 3
   },
   "file_extension": ".py",
   "mimetype": "text/x-python",
   "name": "python",
   "nbconvert_exporter": "python",
   "pygments_lexer": "ipython3",
   "version": "3.9.0"
  }
 },
 "nbformat": 4,
 "nbformat_minor": 5
}
