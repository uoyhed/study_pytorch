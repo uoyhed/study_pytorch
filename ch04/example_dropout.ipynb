{
 "cells": [
  {
   "cell_type": "markdown",
   "id": "d766e623",
   "metadata": {},
   "source": [
    "# Dropout"
   ]
  },
  {
   "cell_type": "code",
   "execution_count": 2,
   "id": "4d111054",
   "metadata": {},
   "outputs": [],
   "source": [
    "import torch"
   ]
  },
  {
   "cell_type": "code",
   "execution_count": 3,
   "id": "575da4ef",
   "metadata": {},
   "outputs": [],
   "source": [
    "class DropoutModel(torch.nn.Module):\n",
    "    def __init__(self):\n",
    "        super(DropoutModel, self).__init__()\n",
    "        self.layer1 = torch.nn.Linear(784, 1200)\n",
    "        self.dropout1 = torch.nn.Dropout(0.5)\n",
    "        self.layer2 = torch.nn.Linear(1200, 1200)\n",
    "        self.dropout2 = torch.nn.Dropout(0.5)\n",
    "        self.layer3 = torch.nn.Linear(1200, 10)\n",
    "        \n",
    "    def forward(self, x):\n",
    "        x = F.relu(self.layer1(x))\n",
    "        x = self.dropout1(x)\n",
    "        x = F.relu(self.layer2(x))\n",
    "        x = self.dropout2(x)\n",
    "        return self.dropout3(x)"
   ]
  },
  {
   "cell_type": "code",
   "execution_count": null,
   "id": "ee9d88ab",
   "metadata": {},
   "outputs": [],
   "source": []
  }
 ],
 "metadata": {
  "kernelspec": {
   "display_name": "Python 3 (ipykernel)",
   "language": "python",
   "name": "python3"
  },
  "language_info": {
   "codemirror_mode": {
    "name": "ipython",
    "version": 3
   },
   "file_extension": ".py",
   "mimetype": "text/x-python",
   "name": "python",
   "nbconvert_exporter": "python",
   "pygments_lexer": "ipython3",
   "version": "3.9.0"
  }
 },
 "nbformat": 4,
 "nbformat_minor": 5
}
