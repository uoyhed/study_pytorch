{
 "cells": [
  {
   "cell_type": "markdown",
   "id": "af00d617",
   "metadata": {},
   "source": [
    "# 1. 이미지 분류를 위한 신경망"
   ]
  },
  {
   "cell_type": "markdown",
   "id": "07ccf3f4",
   "metadata": {},
   "source": [
    "## 4) GoogLeNet"
   ]
  },
  {
   "cell_type": "code",
   "execution_count": null,
   "id": "c5ed3d40",
   "metadata": {},
   "outputs": [],
   "source": []
  }
 ],
 "metadata": {
  "kernelspec": {
   "display_name": "Python 3 (ipykernel)",
   "language": "python",
   "name": "python3"
  },
  "language_info": {
   "codemirror_mode": {
    "name": "ipython",
    "version": 3
   },
   "file_extension": ".py",
   "mimetype": "text/x-python",
   "name": "python",
   "nbconvert_exporter": "python",
   "pygments_lexer": "ipython3",
   "version": "3.9.0"
  }
 },
 "nbformat": 4,
 "nbformat_minor": 5
}
