{
 "cells": [
  {
   "cell_type": "markdown",
   "id": "32b78565",
   "metadata": {},
   "source": [
    "# [지도 학습]"
   ]
  },
  {
   "cell_type": "markdown",
   "id": "8c5148e8",
   "metadata": {},
   "source": [
    "## 1. K-Nearest Neighbor"
   ]
  },
  {
   "cell_type": "code",
   "execution_count": 1,
   "id": "6e452362",
   "metadata": {},
   "outputs": [],
   "source": [
    "# 라이브러리 호출 및 데이터 준비\n",
    "import numpy as np # 벡터 및 행렬 연산 처리를 위한 라이브러리\n",
    "import matplotlib.pyplot as plt # 데이터를 차트나 플롯으로 그려 주는 라이브러리\n",
    "import pandas as pd # 데이터 분석 및 조작을 위한 라이브러리\n",
    "from sklearn import metrics # 모델 성능 평가\n",
    "\n",
    "names = ['sepal-length', 'sepal-width', 'petal-length', 'petal-width', 'Class'] # 데이터셋에 컬럼 할당\n",
    "\n",
    "dataset = pd.read_csv('./data/iris.data', names=names)"
   ]
  },
  {
   "cell_type": "code",
   "execution_count": 2,
   "id": "da1f4227",
   "metadata": {},
   "outputs": [
    {
     "data": {
      "text/html": [
       "<div>\n",
       "<style scoped>\n",
       "    .dataframe tbody tr th:only-of-type {\n",
       "        vertical-align: middle;\n",
       "    }\n",
       "\n",
       "    .dataframe tbody tr th {\n",
       "        vertical-align: top;\n",
       "    }\n",
       "\n",
       "    .dataframe thead th {\n",
       "        text-align: right;\n",
       "    }\n",
       "</style>\n",
       "<table border=\"1\" class=\"dataframe\">\n",
       "  <thead>\n",
       "    <tr style=\"text-align: right;\">\n",
       "      <th></th>\n",
       "      <th>sepal-length</th>\n",
       "      <th>sepal-width</th>\n",
       "      <th>petal-length</th>\n",
       "      <th>petal-width</th>\n",
       "      <th>Class</th>\n",
       "    </tr>\n",
       "  </thead>\n",
       "  <tbody>\n",
       "    <tr>\n",
       "      <th>0</th>\n",
       "      <td>5.1</td>\n",
       "      <td>3.5</td>\n",
       "      <td>1.4</td>\n",
       "      <td>0.2</td>\n",
       "      <td>Iris-setosa</td>\n",
       "    </tr>\n",
       "    <tr>\n",
       "      <th>1</th>\n",
       "      <td>4.9</td>\n",
       "      <td>3.0</td>\n",
       "      <td>1.4</td>\n",
       "      <td>0.2</td>\n",
       "      <td>Iris-setosa</td>\n",
       "    </tr>\n",
       "    <tr>\n",
       "      <th>2</th>\n",
       "      <td>4.7</td>\n",
       "      <td>3.2</td>\n",
       "      <td>1.3</td>\n",
       "      <td>0.2</td>\n",
       "      <td>Iris-setosa</td>\n",
       "    </tr>\n",
       "    <tr>\n",
       "      <th>3</th>\n",
       "      <td>4.6</td>\n",
       "      <td>3.1</td>\n",
       "      <td>1.5</td>\n",
       "      <td>0.2</td>\n",
       "      <td>Iris-setosa</td>\n",
       "    </tr>\n",
       "    <tr>\n",
       "      <th>4</th>\n",
       "      <td>5.0</td>\n",
       "      <td>3.6</td>\n",
       "      <td>1.4</td>\n",
       "      <td>0.2</td>\n",
       "      <td>Iris-setosa</td>\n",
       "    </tr>\n",
       "    <tr>\n",
       "      <th>...</th>\n",
       "      <td>...</td>\n",
       "      <td>...</td>\n",
       "      <td>...</td>\n",
       "      <td>...</td>\n",
       "      <td>...</td>\n",
       "    </tr>\n",
       "    <tr>\n",
       "      <th>145</th>\n",
       "      <td>6.7</td>\n",
       "      <td>3.0</td>\n",
       "      <td>5.2</td>\n",
       "      <td>2.3</td>\n",
       "      <td>Iris-virginica</td>\n",
       "    </tr>\n",
       "    <tr>\n",
       "      <th>146</th>\n",
       "      <td>6.3</td>\n",
       "      <td>2.5</td>\n",
       "      <td>5.0</td>\n",
       "      <td>1.9</td>\n",
       "      <td>Iris-virginica</td>\n",
       "    </tr>\n",
       "    <tr>\n",
       "      <th>147</th>\n",
       "      <td>6.5</td>\n",
       "      <td>3.0</td>\n",
       "      <td>5.2</td>\n",
       "      <td>2.0</td>\n",
       "      <td>Iris-virginica</td>\n",
       "    </tr>\n",
       "    <tr>\n",
       "      <th>148</th>\n",
       "      <td>6.2</td>\n",
       "      <td>3.4</td>\n",
       "      <td>5.4</td>\n",
       "      <td>2.3</td>\n",
       "      <td>Iris-virginica</td>\n",
       "    </tr>\n",
       "    <tr>\n",
       "      <th>149</th>\n",
       "      <td>5.9</td>\n",
       "      <td>3.0</td>\n",
       "      <td>5.1</td>\n",
       "      <td>1.8</td>\n",
       "      <td>Iris-virginica</td>\n",
       "    </tr>\n",
       "  </tbody>\n",
       "</table>\n",
       "<p>150 rows × 5 columns</p>\n",
       "</div>"
      ],
      "text/plain": [
       "     sepal-length  sepal-width  petal-length  petal-width           Class\n",
       "0             5.1          3.5           1.4          0.2     Iris-setosa\n",
       "1             4.9          3.0           1.4          0.2     Iris-setosa\n",
       "2             4.7          3.2           1.3          0.2     Iris-setosa\n",
       "3             4.6          3.1           1.5          0.2     Iris-setosa\n",
       "4             5.0          3.6           1.4          0.2     Iris-setosa\n",
       "..            ...          ...           ...          ...             ...\n",
       "145           6.7          3.0           5.2          2.3  Iris-virginica\n",
       "146           6.3          2.5           5.0          1.9  Iris-virginica\n",
       "147           6.5          3.0           5.2          2.0  Iris-virginica\n",
       "148           6.2          3.4           5.4          2.3  Iris-virginica\n",
       "149           5.9          3.0           5.1          1.8  Iris-virginica\n",
       "\n",
       "[150 rows x 5 columns]"
      ]
     },
     "execution_count": 2,
     "metadata": {},
     "output_type": "execute_result"
    }
   ],
   "source": [
    "dataset"
   ]
  },
  {
   "cell_type": "code",
   "execution_count": 3,
   "id": "8a4a6948",
   "metadata": {},
   "outputs": [],
   "source": [
    "# 훈련과 테스트 데이터셋으로 분리\n",
    "X = dataset.iloc[:, :-1].values # 모든 행을 사용, 컬럼은 뒤에서 하나를 뺀 값을 가져옴\n",
    "y = dataset.iloc[:, 4].values # 모든 행을 사용, 5번 째 (4번 째 인덱스) 값만 가져와서 Y에 저장\n",
    "\n",
    "from sklearn.model_selection import train_test_split\n",
    "X_train, X_test, y_train, y_test = train_test_split(X, y, test_size=0.20) # X(train/test) / Y(train/test)"
   ]
  },
  {
   "cell_type": "code",
   "execution_count": 4,
   "id": "b0cda9bc",
   "metadata": {},
   "outputs": [
    {
     "data": {
      "text/plain": [
       "array([[6.7, 2.5, 5.8, 1.8],\n",
       "       [4.4, 3. , 1.3, 0.2],\n",
       "       [6.2, 2.9, 4.3, 1.3],\n",
       "       [5.1, 3.5, 1.4, 0.3],\n",
       "       [5.5, 2.5, 4. , 1.3],\n",
       "       [5.5, 4.2, 1.4, 0.2],\n",
       "       [7.2, 3.2, 6. , 1.8],\n",
       "       [5.9, 3. , 5.1, 1.8],\n",
       "       [5.4, 3.4, 1.5, 0.4],\n",
       "       [4.9, 3. , 1.4, 0.2],\n",
       "       [6. , 3. , 4.8, 1.8],\n",
       "       [5.6, 2.8, 4.9, 2. ],\n",
       "       [5. , 3.5, 1.3, 0.3],\n",
       "       [5.8, 2.8, 5.1, 2.4],\n",
       "       [7.2, 3.6, 6.1, 2.5],\n",
       "       [5.5, 2.6, 4.4, 1.2],\n",
       "       [5. , 2.3, 3.3, 1. ],\n",
       "       [4.8, 3.4, 1.9, 0.2],\n",
       "       [4.6, 3.1, 1.5, 0.2],\n",
       "       [5.1, 3.3, 1.7, 0.5],\n",
       "       [6.1, 2.9, 4.7, 1.4],\n",
       "       [6.4, 3.2, 5.3, 2.3],\n",
       "       [6.6, 2.9, 4.6, 1.3],\n",
       "       [4.8, 3.4, 1.6, 0.2],\n",
       "       [5. , 3.3, 1.4, 0.2],\n",
       "       [5.4, 3. , 4.5, 1.5],\n",
       "       [5.8, 2.7, 5.1, 1.9],\n",
       "       [5. , 2. , 3.5, 1. ],\n",
       "       [5.1, 3.8, 1.6, 0.2],\n",
       "       [6.9, 3.2, 5.7, 2.3],\n",
       "       [5.1, 3.8, 1.9, 0.4],\n",
       "       [5. , 3.4, 1.5, 0.2],\n",
       "       [5.7, 2.8, 4.1, 1.3],\n",
       "       [4.8, 3.1, 1.6, 0.2],\n",
       "       [6. , 2.9, 4.5, 1.5],\n",
       "       [6.6, 3. , 4.4, 1.4],\n",
       "       [6.3, 3.4, 5.6, 2.4],\n",
       "       [6.3, 2.7, 4.9, 1.8],\n",
       "       [5.9, 3.2, 4.8, 1.8],\n",
       "       [6. , 2.2, 5. , 1.5],\n",
       "       [5.8, 2.7, 5.1, 1.9],\n",
       "       [5.7, 2.5, 5. , 2. ],\n",
       "       [6.3, 3.3, 6. , 2.5],\n",
       "       [6.9, 3.1, 4.9, 1.5],\n",
       "       [5.8, 4. , 1.2, 0.2],\n",
       "       [4.9, 3.1, 1.5, 0.1],\n",
       "       [5.5, 2.3, 4. , 1.3],\n",
       "       [6.2, 2.2, 4.5, 1.5],\n",
       "       [4.7, 3.2, 1.6, 0.2],\n",
       "       [5.5, 2.4, 3.7, 1. ],\n",
       "       [5.8, 2.7, 3.9, 1.2],\n",
       "       [6.2, 3.4, 5.4, 2.3],\n",
       "       [5.6, 2.5, 3.9, 1.1],\n",
       "       [7.7, 2.8, 6.7, 2. ],\n",
       "       [6.5, 2.8, 4.6, 1.5],\n",
       "       [7.2, 3. , 5.8, 1.6],\n",
       "       [7.3, 2.9, 6.3, 1.8],\n",
       "       [5. , 3.2, 1.2, 0.2],\n",
       "       [5.6, 2.9, 3.6, 1.3],\n",
       "       [6.7, 3.1, 4.7, 1.5],\n",
       "       [5.2, 3.5, 1.5, 0.2],\n",
       "       [5.4, 3.9, 1.7, 0.4],\n",
       "       [5.5, 3.5, 1.3, 0.2],\n",
       "       [7.1, 3. , 5.9, 2.1],\n",
       "       [6.9, 3.1, 5.4, 2.1],\n",
       "       [6.1, 2.8, 4.7, 1.2],\n",
       "       [5.1, 3.4, 1.5, 0.2],\n",
       "       [6.3, 3.3, 4.7, 1.6],\n",
       "       [6.4, 2.9, 4.3, 1.3],\n",
       "       [6. , 3.4, 4.5, 1.6],\n",
       "       [5.7, 4.4, 1.5, 0.4],\n",
       "       [5.2, 4.1, 1.5, 0.1],\n",
       "       [6.4, 3.2, 4.5, 1.5],\n",
       "       [6.8, 3. , 5.5, 2.1],\n",
       "       [6.4, 2.8, 5.6, 2.2],\n",
       "       [6.1, 2.6, 5.6, 1.4],\n",
       "       [6.5, 3. , 5.5, 1.8],\n",
       "       [6. , 2.2, 4. , 1. ],\n",
       "       [6.7, 3.1, 5.6, 2.4],\n",
       "       [4.4, 3.2, 1.3, 0.2],\n",
       "       [6.4, 2.7, 5.3, 1.9],\n",
       "       [6. , 2.7, 5.1, 1.6],\n",
       "       [4.8, 3. , 1.4, 0.3],\n",
       "       [6.1, 2.8, 4. , 1.3],\n",
       "       [4.7, 3.2, 1.3, 0.2],\n",
       "       [5.1, 3.7, 1.5, 0.4],\n",
       "       [5.4, 3.9, 1.3, 0.4],\n",
       "       [6.3, 2.5, 5. , 1.9],\n",
       "       [7.9, 3.8, 6.4, 2. ],\n",
       "       [4.3, 3. , 1.1, 0.1],\n",
       "       [6.8, 3.2, 5.9, 2.3],\n",
       "       [5.8, 2.7, 4.1, 1. ],\n",
       "       [6.7, 3.3, 5.7, 2.1],\n",
       "       [5.6, 3. , 4.5, 1.5],\n",
       "       [7.7, 2.6, 6.9, 2.3],\n",
       "       [4.8, 3. , 1.4, 0.1],\n",
       "       [5. , 3.6, 1.4, 0.2],\n",
       "       [4.6, 3.6, 1. , 0.2],\n",
       "       [5.6, 3. , 4.1, 1.3],\n",
       "       [6.5, 3. , 5.8, 2.2],\n",
       "       [5.2, 2.7, 3.9, 1.4],\n",
       "       [5.7, 2.8, 4.5, 1.3],\n",
       "       [5.6, 2.7, 4.2, 1.3],\n",
       "       [6.5, 3.2, 5.1, 2. ],\n",
       "       [4.9, 2.4, 3.3, 1. ],\n",
       "       [5.7, 3.8, 1.7, 0.3],\n",
       "       [6.7, 3.3, 5.7, 2.5],\n",
       "       [4.9, 2.5, 4.5, 1.7],\n",
       "       [6.3, 2.8, 5.1, 1.5],\n",
       "       [6.9, 3.1, 5.1, 2.3],\n",
       "       [5.4, 3.7, 1.5, 0.2],\n",
       "       [5. , 3.4, 1.6, 0.4],\n",
       "       [7. , 3.2, 4.7, 1.4],\n",
       "       [6.1, 3. , 4.6, 1.4],\n",
       "       [5.7, 2.9, 4.2, 1.3],\n",
       "       [4.4, 2.9, 1.4, 0.2],\n",
       "       [5.1, 3.8, 1.5, 0.3],\n",
       "       [5.9, 3. , 4.2, 1.5],\n",
       "       [6.2, 2.8, 4.8, 1.8],\n",
       "       [6.3, 2.9, 5.6, 1.8]])"
      ]
     },
     "execution_count": 4,
     "metadata": {},
     "output_type": "execute_result"
    }
   ],
   "source": [
    "X_train"
   ]
  },
  {
   "cell_type": "code",
   "execution_count": 5,
   "id": "5428950f",
   "metadata": {},
   "outputs": [
    {
     "data": {
      "text/plain": [
       "array([[4.9, 3.1, 1.5, 0.1],\n",
       "       [7.7, 3.8, 6.7, 2.2],\n",
       "       [6.4, 3.1, 5.5, 1.8],\n",
       "       [7.7, 3. , 6.1, 2.3],\n",
       "       [4.6, 3.2, 1.4, 0.2],\n",
       "       [4.6, 3.4, 1.4, 0.3],\n",
       "       [5.4, 3.4, 1.7, 0.2],\n",
       "       [5. , 3. , 1.6, 0.2],\n",
       "       [4.9, 3.1, 1.5, 0.1],\n",
       "       [5.5, 2.4, 3.8, 1.1],\n",
       "       [7.4, 2.8, 6.1, 1.9],\n",
       "       [6.1, 3. , 4.9, 1.8],\n",
       "       [6.3, 2.5, 4.9, 1.5],\n",
       "       [6.4, 2.8, 5.6, 2.1],\n",
       "       [5.7, 2.6, 3.5, 1. ],\n",
       "       [5.2, 3.4, 1.4, 0.2],\n",
       "       [5.7, 3. , 4.2, 1.2],\n",
       "       [5.3, 3.7, 1.5, 0.2],\n",
       "       [6.3, 2.3, 4.4, 1.3],\n",
       "       [5.8, 2.6, 4. , 1.2],\n",
       "       [6.5, 3. , 5.2, 2. ],\n",
       "       [6.8, 2.8, 4.8, 1.4],\n",
       "       [4.5, 2.3, 1.3, 0.3],\n",
       "       [6.7, 3.1, 4.4, 1.4],\n",
       "       [6.7, 3. , 5. , 1.7],\n",
       "       [5.1, 2.5, 3. , 1.1],\n",
       "       [6.7, 3. , 5.2, 2.3],\n",
       "       [5.1, 3.5, 1.4, 0.2],\n",
       "       [7.6, 3. , 6.6, 2.1],\n",
       "       [5. , 3.5, 1.6, 0.6]])"
      ]
     },
     "execution_count": 5,
     "metadata": {},
     "output_type": "execute_result"
    }
   ],
   "source": [
    "X_test"
   ]
  },
  {
   "cell_type": "code",
   "execution_count": 6,
   "id": "1ea75915",
   "metadata": {},
   "outputs": [
    {
     "data": {
      "text/plain": [
       "array(['Iris-virginica', 'Iris-setosa', 'Iris-versicolor', 'Iris-setosa',\n",
       "       'Iris-versicolor', 'Iris-setosa', 'Iris-virginica',\n",
       "       'Iris-virginica', 'Iris-setosa', 'Iris-setosa', 'Iris-virginica',\n",
       "       'Iris-virginica', 'Iris-setosa', 'Iris-virginica',\n",
       "       'Iris-virginica', 'Iris-versicolor', 'Iris-versicolor',\n",
       "       'Iris-setosa', 'Iris-setosa', 'Iris-setosa', 'Iris-versicolor',\n",
       "       'Iris-virginica', 'Iris-versicolor', 'Iris-setosa', 'Iris-setosa',\n",
       "       'Iris-versicolor', 'Iris-virginica', 'Iris-versicolor',\n",
       "       'Iris-setosa', 'Iris-virginica', 'Iris-setosa', 'Iris-setosa',\n",
       "       'Iris-versicolor', 'Iris-setosa', 'Iris-versicolor',\n",
       "       'Iris-versicolor', 'Iris-virginica', 'Iris-virginica',\n",
       "       'Iris-versicolor', 'Iris-virginica', 'Iris-virginica',\n",
       "       'Iris-virginica', 'Iris-virginica', 'Iris-versicolor',\n",
       "       'Iris-setosa', 'Iris-setosa', 'Iris-versicolor', 'Iris-versicolor',\n",
       "       'Iris-setosa', 'Iris-versicolor', 'Iris-versicolor',\n",
       "       'Iris-virginica', 'Iris-versicolor', 'Iris-virginica',\n",
       "       'Iris-versicolor', 'Iris-virginica', 'Iris-virginica',\n",
       "       'Iris-setosa', 'Iris-versicolor', 'Iris-versicolor', 'Iris-setosa',\n",
       "       'Iris-setosa', 'Iris-setosa', 'Iris-virginica', 'Iris-virginica',\n",
       "       'Iris-versicolor', 'Iris-setosa', 'Iris-versicolor',\n",
       "       'Iris-versicolor', 'Iris-versicolor', 'Iris-setosa', 'Iris-setosa',\n",
       "       'Iris-versicolor', 'Iris-virginica', 'Iris-virginica',\n",
       "       'Iris-virginica', 'Iris-virginica', 'Iris-versicolor',\n",
       "       'Iris-virginica', 'Iris-setosa', 'Iris-virginica',\n",
       "       'Iris-versicolor', 'Iris-setosa', 'Iris-versicolor', 'Iris-setosa',\n",
       "       'Iris-setosa', 'Iris-setosa', 'Iris-virginica', 'Iris-virginica',\n",
       "       'Iris-setosa', 'Iris-virginica', 'Iris-versicolor',\n",
       "       'Iris-virginica', 'Iris-versicolor', 'Iris-virginica',\n",
       "       'Iris-setosa', 'Iris-setosa', 'Iris-setosa', 'Iris-versicolor',\n",
       "       'Iris-virginica', 'Iris-versicolor', 'Iris-versicolor',\n",
       "       'Iris-versicolor', 'Iris-virginica', 'Iris-versicolor',\n",
       "       'Iris-setosa', 'Iris-virginica', 'Iris-virginica',\n",
       "       'Iris-virginica', 'Iris-virginica', 'Iris-setosa', 'Iris-setosa',\n",
       "       'Iris-versicolor', 'Iris-versicolor', 'Iris-versicolor',\n",
       "       'Iris-setosa', 'Iris-setosa', 'Iris-versicolor', 'Iris-virginica',\n",
       "       'Iris-virginica'], dtype=object)"
      ]
     },
     "execution_count": 6,
     "metadata": {},
     "output_type": "execute_result"
    }
   ],
   "source": [
    "y_train"
   ]
  },
  {
   "cell_type": "code",
   "execution_count": 7,
   "id": "d761ff4e",
   "metadata": {},
   "outputs": [
    {
     "data": {
      "text/plain": [
       "array(['Iris-setosa', 'Iris-virginica', 'Iris-virginica',\n",
       "       'Iris-virginica', 'Iris-setosa', 'Iris-setosa', 'Iris-setosa',\n",
       "       'Iris-setosa', 'Iris-setosa', 'Iris-versicolor', 'Iris-virginica',\n",
       "       'Iris-virginica', 'Iris-versicolor', 'Iris-virginica',\n",
       "       'Iris-versicolor', 'Iris-setosa', 'Iris-versicolor', 'Iris-setosa',\n",
       "       'Iris-versicolor', 'Iris-versicolor', 'Iris-virginica',\n",
       "       'Iris-versicolor', 'Iris-setosa', 'Iris-versicolor',\n",
       "       'Iris-versicolor', 'Iris-versicolor', 'Iris-virginica',\n",
       "       'Iris-setosa', 'Iris-virginica', 'Iris-setosa'], dtype=object)"
      ]
     },
     "execution_count": 7,
     "metadata": {},
     "output_type": "execute_result"
    }
   ],
   "source": [
    "y_test"
   ]
  },
  {
   "cell_type": "code",
   "execution_count": 8,
   "id": "028ba94a",
   "metadata": {},
   "outputs": [],
   "source": [
    "from sklearn.preprocessing import StandardScaler\n",
    "s = StandardScaler() # 특성 스케일링, 평균이 0, 표준편차가 1이 되도록 변환\n",
    "X_train = s.fit(X_train).transform(X_train) # 훈련 데이터를 스케일링 처리\n",
    "X_test = s.fit_transform(X_test) # 테스트 데이터를 스케일링 처리"
   ]
  },
  {
   "cell_type": "code",
   "execution_count": 9,
   "id": "2737d515",
   "metadata": {},
   "outputs": [
    {
     "data": {
      "text/plain": [
       "array([[ 1.10933199, -1.28648106,  1.1639349 ,  0.77162614],\n",
       "       [-1.80385192, -0.15467954, -1.42898939, -1.33880433],\n",
       "       [ 0.47603114, -0.38103984,  0.29962681,  0.11211662],\n",
       "       [-0.91723073,  0.97712198, -1.37136885, -1.20690242],\n",
       "       [-0.41059005, -1.28648106,  0.12676519,  0.11211662],\n",
       "       [-0.41059005,  2.56164411, -1.37136885, -1.33880433],\n",
       "       [ 1.74263284,  0.29804107,  1.27917598,  0.77162614],\n",
       "       [ 0.09605063, -0.15467954,  0.76059113,  0.77162614],\n",
       "       [-0.53725022,  0.75076167, -1.31374831, -1.07500052],\n",
       "       [-1.17055107, -0.15467954, -1.37136885, -1.33880433],\n",
       "       [ 0.2227108 , -0.15467954,  0.58772951,  0.77162614],\n",
       "       [-0.28392988, -0.60740015,  0.64535005,  1.03542995],\n",
       "       [-1.0438909 ,  0.97712198, -1.42898939, -1.20690242],\n",
       "       [-0.03060954, -0.60740015,  0.76059113,  1.56303756],\n",
       "       [ 1.74263284,  1.20348228,  1.33679652,  1.69493947],\n",
       "       [-0.41059005, -1.06012076,  0.35724735, -0.01978529],\n",
       "       [-1.0438909 , -1.73920167, -0.27657859, -0.28358909],\n",
       "       [-1.29721124,  0.75076167, -1.08326615, -1.33880433],\n",
       "       [-1.55053158,  0.07168076, -1.31374831, -1.33880433],\n",
       "       [-0.91723073,  0.52440137, -1.19850723, -0.94309861],\n",
       "       [ 0.34937097, -0.38103984,  0.53010897,  0.24401852],\n",
       "       [ 0.72935148,  0.29804107,  0.87583221,  1.43113566],\n",
       "       [ 0.98267182, -0.38103984,  0.47248843,  0.11211662],\n",
       "       [-1.29721124,  0.75076167, -1.25612777, -1.33880433],\n",
       "       [-1.0438909 ,  0.52440137, -1.37136885, -1.33880433],\n",
       "       [-0.53725022, -0.15467954,  0.41486789,  0.37592043],\n",
       "       [-0.03060954, -0.83376045,  0.76059113,  0.90352804],\n",
       "       [-1.0438909 , -2.41828258, -0.16133751, -0.28358909],\n",
       "       [-0.91723073,  1.65620289, -1.25612777, -1.33880433],\n",
       "       [ 1.36265233,  0.29804107,  1.10631436,  1.43113566],\n",
       "       [-0.91723073,  1.65620289, -1.08326615, -1.07500052],\n",
       "       [-1.0438909 ,  0.75076167, -1.31374831, -1.33880433],\n",
       "       [-0.15726971, -0.60740015,  0.18438573,  0.11211662],\n",
       "       [-1.29721124,  0.07168076, -1.25612777, -1.33880433],\n",
       "       [ 0.2227108 , -0.38103984,  0.41486789,  0.37592043],\n",
       "       [ 0.98267182, -0.15467954,  0.35724735,  0.24401852],\n",
       "       [ 0.60269131,  0.75076167,  1.04869382,  1.56303756],\n",
       "       [ 0.60269131, -0.83376045,  0.64535005,  0.77162614],\n",
       "       [ 0.09605063,  0.29804107,  0.58772951,  0.77162614],\n",
       "       [ 0.2227108 , -1.96556197,  0.70297059,  0.37592043],\n",
       "       [-0.03060954, -0.83376045,  0.76059113,  0.90352804],\n",
       "       [-0.15726971, -1.28648106,  0.70297059,  1.03542995],\n",
       "       [ 0.60269131,  0.52440137,  1.27917598,  1.69493947],\n",
       "       [ 1.36265233,  0.07168076,  0.64535005,  0.37592043],\n",
       "       [-0.03060954,  2.1089235 , -1.48660993, -1.33880433],\n",
       "       [-1.17055107,  0.07168076, -1.31374831, -1.47070623],\n",
       "       [-0.41059005, -1.73920167,  0.12676519,  0.11211662],\n",
       "       [ 0.47603114, -1.96556197,  0.41486789,  0.37592043],\n",
       "       [-1.42387141,  0.29804107, -1.25612777, -1.33880433],\n",
       "       [-0.41059005, -1.51284136, -0.04609643, -0.28358909],\n",
       "       [-0.03060954, -0.83376045,  0.06914465, -0.01978529],\n",
       "       [ 0.47603114,  0.75076167,  0.93345274,  1.43113566],\n",
       "       [-0.28392988, -1.28648106,  0.06914465, -0.15168719],\n",
       "       [ 2.37593369, -0.60740015,  1.68251976,  1.03542995],\n",
       "       [ 0.85601165, -0.60740015,  0.47248843,  0.37592043],\n",
       "       [ 1.74263284, -0.15467954,  1.1639349 ,  0.50782233],\n",
       "       [ 1.86929301, -0.38103984,  1.4520376 ,  0.77162614],\n",
       "       [-1.0438909 ,  0.29804107, -1.48660993, -1.33880433],\n",
       "       [-0.28392988, -0.38103984, -0.10371697,  0.11211662],\n",
       "       [ 1.10933199,  0.07168076,  0.53010897,  0.37592043],\n",
       "       [-0.79057056,  0.97712198, -1.31374831, -1.33880433],\n",
       "       [-0.53725022,  1.88256319, -1.19850723, -1.07500052],\n",
       "       [-0.41059005,  0.97712198, -1.42898939, -1.33880433],\n",
       "       [ 1.61597267, -0.15467954,  1.22155544,  1.16733185],\n",
       "       [ 1.36265233,  0.07168076,  0.93345274,  1.16733185],\n",
       "       [ 0.34937097, -0.60740015,  0.53010897, -0.01978529],\n",
       "       [-0.91723073,  0.75076167, -1.31374831, -1.33880433],\n",
       "       [ 0.60269131,  0.52440137,  0.53010897,  0.50782233],\n",
       "       [ 0.72935148, -0.38103984,  0.29962681,  0.11211662],\n",
       "       [ 0.2227108 ,  0.75076167,  0.41486789,  0.50782233],\n",
       "       [-0.15726971,  3.01436471, -1.31374831, -1.07500052],\n",
       "       [-0.79057056,  2.3352838 , -1.31374831, -1.47070623],\n",
       "       [ 0.72935148,  0.29804107,  0.41486789,  0.37592043],\n",
       "       [ 1.23599216, -0.15467954,  0.99107328,  1.16733185],\n",
       "       [ 0.72935148, -0.60740015,  1.04869382,  1.29923376],\n",
       "       [ 0.34937097, -1.06012076,  1.04869382,  0.24401852],\n",
       "       [ 0.85601165, -0.15467954,  0.99107328,  0.77162614],\n",
       "       [ 0.2227108 , -1.96556197,  0.12676519, -0.28358909],\n",
       "       [ 1.10933199,  0.07168076,  1.04869382,  1.56303756],\n",
       "       [-1.80385192,  0.29804107, -1.42898939, -1.33880433],\n",
       "       [ 0.72935148, -0.83376045,  0.87583221,  0.90352804],\n",
       "       [ 0.2227108 , -0.83376045,  0.76059113,  0.50782233],\n",
       "       [-1.29721124, -0.15467954, -1.37136885, -1.20690242],\n",
       "       [ 0.34937097, -0.60740015,  0.12676519,  0.11211662],\n",
       "       [-1.42387141,  0.29804107, -1.42898939, -1.33880433],\n",
       "       [-0.91723073,  1.42984259, -1.31374831, -1.07500052],\n",
       "       [-0.53725022,  1.88256319, -1.42898939, -1.07500052],\n",
       "       [ 0.60269131, -1.28648106,  0.70297059,  0.90352804],\n",
       "       [ 2.62925403,  1.65620289,  1.50965814,  1.03542995],\n",
       "       [-1.93051209, -0.15467954, -1.54423047, -1.47070623],\n",
       "       [ 1.23599216,  0.29804107,  1.22155544,  1.43113566],\n",
       "       [-0.03060954, -0.83376045,  0.18438573, -0.28358909],\n",
       "       [ 1.10933199,  0.52440137,  1.10631436,  1.16733185],\n",
       "       [-0.28392988, -0.15467954,  0.41486789,  0.37592043],\n",
       "       [ 2.37593369, -1.06012076,  1.79776084,  1.43113566],\n",
       "       [-1.29721124, -0.15467954, -1.37136885, -1.47070623],\n",
       "       [-1.0438909 ,  1.20348228, -1.37136885, -1.33880433],\n",
       "       [-1.55053158,  1.20348228, -1.60185101, -1.33880433],\n",
       "       [-0.28392988, -0.15467954,  0.18438573,  0.11211662],\n",
       "       [ 0.85601165, -0.15467954,  1.1639349 ,  1.29923376],\n",
       "       [-0.79057056, -0.83376045,  0.06914465,  0.24401852],\n",
       "       [-0.15726971, -0.60740015,  0.41486789,  0.11211662],\n",
       "       [-0.28392988, -0.83376045,  0.24200627,  0.11211662],\n",
       "       [ 0.85601165,  0.29804107,  0.76059113,  1.03542995],\n",
       "       [-1.17055107, -1.51284136, -0.27657859, -0.28358909],\n",
       "       [-0.15726971,  1.65620289, -1.19850723, -1.20690242],\n",
       "       [ 1.10933199,  0.52440137,  1.10631436,  1.69493947],\n",
       "       [-1.17055107, -1.28648106,  0.41486789,  0.63972423],\n",
       "       [ 0.60269131, -0.60740015,  0.76059113,  0.37592043],\n",
       "       [ 1.36265233,  0.07168076,  0.76059113,  1.43113566],\n",
       "       [-0.53725022,  1.42984259, -1.31374831, -1.33880433],\n",
       "       [-1.0438909 ,  0.75076167, -1.25612777, -1.07500052],\n",
       "       [ 1.4893125 ,  0.29804107,  0.53010897,  0.24401852],\n",
       "       [ 0.34937097, -0.15467954,  0.47248843,  0.24401852],\n",
       "       [-0.15726971, -0.38103984,  0.24200627,  0.11211662],\n",
       "       [-1.80385192, -0.38103984, -1.37136885, -1.33880433],\n",
       "       [-0.91723073,  1.65620289, -1.31374831, -1.20690242],\n",
       "       [ 0.09605063, -0.15467954,  0.24200627,  0.37592043],\n",
       "       [ 0.47603114, -0.60740015,  0.58772951,  0.77162614],\n",
       "       [ 0.60269131, -0.38103984,  1.04869382,  0.77162614]])"
      ]
     },
     "execution_count": 9,
     "metadata": {},
     "output_type": "execute_result"
    }
   ],
   "source": [
    "X_train"
   ]
  },
  {
   "cell_type": "code",
   "execution_count": 10,
   "id": "88d8b01a",
   "metadata": {},
   "outputs": [
    {
     "data": {
      "text/plain": [
       "array([[-1.07223969,  0.26770932, -1.17773982, -1.3473168 ],\n",
       "       [ 1.87116338,  2.0812241 ,  1.64016528,  1.39077863],\n",
       "       [ 0.50458338,  0.26770932,  0.98987948,  0.86923665],\n",
       "       [ 1.87116338,  0.00863578,  1.31502238,  1.52116413],\n",
       "       [-1.3876043 ,  0.52678286, -1.23193031, -1.2169313 ],\n",
       "       [-1.3876043 ,  1.04492994, -1.23193031, -1.08654581],\n",
       "       [-0.546632  ,  1.04492994, -1.06935886, -1.2169313 ],\n",
       "       [-0.96711815,  0.00863578, -1.12354934, -1.2169313 ],\n",
       "       [-1.07223969,  0.26770932, -1.17773982, -1.3473168 ],\n",
       "       [-0.44151046, -1.54580546,  0.06864128, -0.04346183],\n",
       "       [ 1.55579877, -0.5095113 ,  1.31502238,  0.99962214],\n",
       "       [ 0.18921877,  0.00863578,  0.66473659,  0.86923665],\n",
       "       [ 0.39946185, -1.28673192,  0.66473659,  0.47808016],\n",
       "       [ 0.50458338, -0.5095113 ,  1.04406997,  1.26039314],\n",
       "       [-0.23126738, -1.02765838, -0.09393017, -0.17384733],\n",
       "       [-0.75687508,  1.04492994, -1.23193031, -1.2169313 ],\n",
       "       [-0.23126738,  0.00863578,  0.28540321,  0.08692366],\n",
       "       [-0.65175354,  1.82215056, -1.17773982, -1.2169313 ],\n",
       "       [ 0.39946185, -1.804879  ,  0.39378417,  0.21730916],\n",
       "       [-0.12614585, -1.02765838,  0.17702224,  0.08692366],\n",
       "       [ 0.60970492,  0.00863578,  0.82730804,  1.13000764],\n",
       "       [ 0.92506954, -0.5095113 ,  0.6105461 ,  0.34769466],\n",
       "       [-1.49272584, -1.804879  , -1.28612079, -1.08654581],\n",
       "       [ 0.819948  ,  0.26770932,  0.39378417,  0.34769466],\n",
       "       [ 0.819948  ,  0.00863578,  0.71892707,  0.73885115],\n",
       "       [-0.86199661, -1.28673192, -0.36488258, -0.04346183],\n",
       "       [ 0.819948  ,  0.00863578,  0.82730804,  1.52116413],\n",
       "       [-0.86199661,  1.30400348, -1.23193031, -1.2169313 ],\n",
       "       [ 1.76604184,  0.00863578,  1.58597479,  1.26039314],\n",
       "       [-0.96711815,  1.30400348, -1.12354934, -0.69538932]])"
      ]
     },
     "execution_count": 10,
     "metadata": {},
     "output_type": "execute_result"
    }
   ],
   "source": [
    "X_test"
   ]
  },
  {
   "cell_type": "code",
   "execution_count": 11,
   "id": "42353d1e",
   "metadata": {},
   "outputs": [
    {
     "data": {
      "text/html": [
       "<style>#sk-container-id-1 {color: black;background-color: white;}#sk-container-id-1 pre{padding: 0;}#sk-container-id-1 div.sk-toggleable {background-color: white;}#sk-container-id-1 label.sk-toggleable__label {cursor: pointer;display: block;width: 100%;margin-bottom: 0;padding: 0.3em;box-sizing: border-box;text-align: center;}#sk-container-id-1 label.sk-toggleable__label-arrow:before {content: \"▸\";float: left;margin-right: 0.25em;color: #696969;}#sk-container-id-1 label.sk-toggleable__label-arrow:hover:before {color: black;}#sk-container-id-1 div.sk-estimator:hover label.sk-toggleable__label-arrow:before {color: black;}#sk-container-id-1 div.sk-toggleable__content {max-height: 0;max-width: 0;overflow: hidden;text-align: left;background-color: #f0f8ff;}#sk-container-id-1 div.sk-toggleable__content pre {margin: 0.2em;color: black;border-radius: 0.25em;background-color: #f0f8ff;}#sk-container-id-1 input.sk-toggleable__control:checked~div.sk-toggleable__content {max-height: 200px;max-width: 100%;overflow: auto;}#sk-container-id-1 input.sk-toggleable__control:checked~label.sk-toggleable__label-arrow:before {content: \"▾\";}#sk-container-id-1 div.sk-estimator input.sk-toggleable__control:checked~label.sk-toggleable__label {background-color: #d4ebff;}#sk-container-id-1 div.sk-label input.sk-toggleable__control:checked~label.sk-toggleable__label {background-color: #d4ebff;}#sk-container-id-1 input.sk-hidden--visually {border: 0;clip: rect(1px 1px 1px 1px);clip: rect(1px, 1px, 1px, 1px);height: 1px;margin: -1px;overflow: hidden;padding: 0;position: absolute;width: 1px;}#sk-container-id-1 div.sk-estimator {font-family: monospace;background-color: #f0f8ff;border: 1px dotted black;border-radius: 0.25em;box-sizing: border-box;margin-bottom: 0.5em;}#sk-container-id-1 div.sk-estimator:hover {background-color: #d4ebff;}#sk-container-id-1 div.sk-parallel-item::after {content: \"\";width: 100%;border-bottom: 1px solid gray;flex-grow: 1;}#sk-container-id-1 div.sk-label:hover label.sk-toggleable__label {background-color: #d4ebff;}#sk-container-id-1 div.sk-serial::before {content: \"\";position: absolute;border-left: 1px solid gray;box-sizing: border-box;top: 0;bottom: 0;left: 50%;z-index: 0;}#sk-container-id-1 div.sk-serial {display: flex;flex-direction: column;align-items: center;background-color: white;padding-right: 0.2em;padding-left: 0.2em;position: relative;}#sk-container-id-1 div.sk-item {position: relative;z-index: 1;}#sk-container-id-1 div.sk-parallel {display: flex;align-items: stretch;justify-content: center;background-color: white;position: relative;}#sk-container-id-1 div.sk-item::before, #sk-container-id-1 div.sk-parallel-item::before {content: \"\";position: absolute;border-left: 1px solid gray;box-sizing: border-box;top: 0;bottom: 0;left: 50%;z-index: -1;}#sk-container-id-1 div.sk-parallel-item {display: flex;flex-direction: column;z-index: 1;position: relative;background-color: white;}#sk-container-id-1 div.sk-parallel-item:first-child::after {align-self: flex-end;width: 50%;}#sk-container-id-1 div.sk-parallel-item:last-child::after {align-self: flex-start;width: 50%;}#sk-container-id-1 div.sk-parallel-item:only-child::after {width: 0;}#sk-container-id-1 div.sk-dashed-wrapped {border: 1px dashed gray;margin: 0 0.4em 0.5em 0.4em;box-sizing: border-box;padding-bottom: 0.4em;background-color: white;}#sk-container-id-1 div.sk-label label {font-family: monospace;font-weight: bold;display: inline-block;line-height: 1.2em;}#sk-container-id-1 div.sk-label-container {text-align: center;}#sk-container-id-1 div.sk-container {/* jupyter's `normalize.less` sets `[hidden] { display: none; }` but bootstrap.min.css set `[hidden] { display: none !important; }` so we also need the `!important` here to be able to override the default hidden behavior on the sphinx rendered scikit-learn.org. See: https://github.com/scikit-learn/scikit-learn/issues/21755 */display: inline-block !important;position: relative;}#sk-container-id-1 div.sk-text-repr-fallback {display: none;}</style><div id=\"sk-container-id-1\" class=\"sk-top-container\"><div class=\"sk-text-repr-fallback\"><pre>KNeighborsClassifier(n_neighbors=50)</pre><b>In a Jupyter environment, please rerun this cell to show the HTML representation or trust the notebook. <br />On GitHub, the HTML representation is unable to render, please try loading this page with nbviewer.org.</b></div><div class=\"sk-container\" hidden><div class=\"sk-item\"><div class=\"sk-estimator sk-toggleable\"><input class=\"sk-toggleable__control sk-hidden--visually\" id=\"sk-estimator-id-1\" type=\"checkbox\" checked><label for=\"sk-estimator-id-1\" class=\"sk-toggleable__label sk-toggleable__label-arrow\">KNeighborsClassifier</label><div class=\"sk-toggleable__content\"><pre>KNeighborsClassifier(n_neighbors=50)</pre></div></div></div></div></div>"
      ],
      "text/plain": [
       "KNeighborsClassifier(n_neighbors=50)"
      ]
     },
     "execution_count": 11,
     "metadata": {},
     "output_type": "execute_result"
    }
   ],
   "source": [
    "# 모델 생성 및 훈련\n",
    "from sklearn.neighbors import KNeighborsClassifier\n",
    "knn = KNeighborsClassifier(n_neighbors=50) # K=50인 K-NN모델 생성\n",
    "knn.fit(X_train, y_train)"
   ]
  },
  {
   "cell_type": "code",
   "execution_count": 12,
   "id": "71592db7",
   "metadata": {},
   "outputs": [
    {
     "data": {
      "text/html": [
       "<style>#sk-container-id-2 {color: black;background-color: white;}#sk-container-id-2 pre{padding: 0;}#sk-container-id-2 div.sk-toggleable {background-color: white;}#sk-container-id-2 label.sk-toggleable__label {cursor: pointer;display: block;width: 100%;margin-bottom: 0;padding: 0.3em;box-sizing: border-box;text-align: center;}#sk-container-id-2 label.sk-toggleable__label-arrow:before {content: \"▸\";float: left;margin-right: 0.25em;color: #696969;}#sk-container-id-2 label.sk-toggleable__label-arrow:hover:before {color: black;}#sk-container-id-2 div.sk-estimator:hover label.sk-toggleable__label-arrow:before {color: black;}#sk-container-id-2 div.sk-toggleable__content {max-height: 0;max-width: 0;overflow: hidden;text-align: left;background-color: #f0f8ff;}#sk-container-id-2 div.sk-toggleable__content pre {margin: 0.2em;color: black;border-radius: 0.25em;background-color: #f0f8ff;}#sk-container-id-2 input.sk-toggleable__control:checked~div.sk-toggleable__content {max-height: 200px;max-width: 100%;overflow: auto;}#sk-container-id-2 input.sk-toggleable__control:checked~label.sk-toggleable__label-arrow:before {content: \"▾\";}#sk-container-id-2 div.sk-estimator input.sk-toggleable__control:checked~label.sk-toggleable__label {background-color: #d4ebff;}#sk-container-id-2 div.sk-label input.sk-toggleable__control:checked~label.sk-toggleable__label {background-color: #d4ebff;}#sk-container-id-2 input.sk-hidden--visually {border: 0;clip: rect(1px 1px 1px 1px);clip: rect(1px, 1px, 1px, 1px);height: 1px;margin: -1px;overflow: hidden;padding: 0;position: absolute;width: 1px;}#sk-container-id-2 div.sk-estimator {font-family: monospace;background-color: #f0f8ff;border: 1px dotted black;border-radius: 0.25em;box-sizing: border-box;margin-bottom: 0.5em;}#sk-container-id-2 div.sk-estimator:hover {background-color: #d4ebff;}#sk-container-id-2 div.sk-parallel-item::after {content: \"\";width: 100%;border-bottom: 1px solid gray;flex-grow: 1;}#sk-container-id-2 div.sk-label:hover label.sk-toggleable__label {background-color: #d4ebff;}#sk-container-id-2 div.sk-serial::before {content: \"\";position: absolute;border-left: 1px solid gray;box-sizing: border-box;top: 0;bottom: 0;left: 50%;z-index: 0;}#sk-container-id-2 div.sk-serial {display: flex;flex-direction: column;align-items: center;background-color: white;padding-right: 0.2em;padding-left: 0.2em;position: relative;}#sk-container-id-2 div.sk-item {position: relative;z-index: 1;}#sk-container-id-2 div.sk-parallel {display: flex;align-items: stretch;justify-content: center;background-color: white;position: relative;}#sk-container-id-2 div.sk-item::before, #sk-container-id-2 div.sk-parallel-item::before {content: \"\";position: absolute;border-left: 1px solid gray;box-sizing: border-box;top: 0;bottom: 0;left: 50%;z-index: -1;}#sk-container-id-2 div.sk-parallel-item {display: flex;flex-direction: column;z-index: 1;position: relative;background-color: white;}#sk-container-id-2 div.sk-parallel-item:first-child::after {align-self: flex-end;width: 50%;}#sk-container-id-2 div.sk-parallel-item:last-child::after {align-self: flex-start;width: 50%;}#sk-container-id-2 div.sk-parallel-item:only-child::after {width: 0;}#sk-container-id-2 div.sk-dashed-wrapped {border: 1px dashed gray;margin: 0 0.4em 0.5em 0.4em;box-sizing: border-box;padding-bottom: 0.4em;background-color: white;}#sk-container-id-2 div.sk-label label {font-family: monospace;font-weight: bold;display: inline-block;line-height: 1.2em;}#sk-container-id-2 div.sk-label-container {text-align: center;}#sk-container-id-2 div.sk-container {/* jupyter's `normalize.less` sets `[hidden] { display: none; }` but bootstrap.min.css set `[hidden] { display: none !important; }` so we also need the `!important` here to be able to override the default hidden behavior on the sphinx rendered scikit-learn.org. See: https://github.com/scikit-learn/scikit-learn/issues/21755 */display: inline-block !important;position: relative;}#sk-container-id-2 div.sk-text-repr-fallback {display: none;}</style><div id=\"sk-container-id-2\" class=\"sk-top-container\"><div class=\"sk-text-repr-fallback\"><pre>KNeighborsClassifier(n_neighbors=50)</pre><b>In a Jupyter environment, please rerun this cell to show the HTML representation or trust the notebook. <br />On GitHub, the HTML representation is unable to render, please try loading this page with nbviewer.org.</b></div><div class=\"sk-container\" hidden><div class=\"sk-item\"><div class=\"sk-estimator sk-toggleable\"><input class=\"sk-toggleable__control sk-hidden--visually\" id=\"sk-estimator-id-2\" type=\"checkbox\" checked><label for=\"sk-estimator-id-2\" class=\"sk-toggleable__label sk-toggleable__label-arrow\">KNeighborsClassifier</label><div class=\"sk-toggleable__content\"><pre>KNeighborsClassifier(n_neighbors=50)</pre></div></div></div></div></div>"
      ],
      "text/plain": [
       "KNeighborsClassifier(n_neighbors=50)"
      ]
     },
     "execution_count": 12,
     "metadata": {},
     "output_type": "execute_result"
    }
   ],
   "source": [
    "knn"
   ]
  },
  {
   "cell_type": "code",
   "execution_count": 13,
   "id": "e3962125",
   "metadata": {},
   "outputs": [
    {
     "name": "stdout",
     "output_type": "stream",
     "text": [
      "정확도: 0.9333333333333333\n"
     ]
    }
   ],
   "source": [
    "from sklearn.metrics import accuracy_score\n",
    "y_pred = knn.predict(X_test)\n",
    "print(\"정확도: {}\".format(accuracy_score(y_test, y_pred)))"
   ]
  },
  {
   "cell_type": "code",
   "execution_count": 15,
   "id": "908fc89d",
   "metadata": {},
   "outputs": [
    {
     "data": {
      "text/plain": [
       "array(['Iris-setosa', 'Iris-virginica', 'Iris-virginica',\n",
       "       'Iris-virginica', 'Iris-setosa', 'Iris-setosa', 'Iris-setosa',\n",
       "       'Iris-setosa', 'Iris-setosa', 'Iris-versicolor', 'Iris-virginica',\n",
       "       'Iris-virginica', 'Iris-versicolor', 'Iris-virginica',\n",
       "       'Iris-versicolor', 'Iris-setosa', 'Iris-versicolor', 'Iris-setosa',\n",
       "       'Iris-versicolor', 'Iris-versicolor', 'Iris-virginica',\n",
       "       'Iris-versicolor', 'Iris-setosa', 'Iris-versicolor',\n",
       "       'Iris-versicolor', 'Iris-versicolor', 'Iris-virginica',\n",
       "       'Iris-setosa', 'Iris-virginica', 'Iris-setosa'], dtype=object)"
      ]
     },
     "execution_count": 15,
     "metadata": {},
     "output_type": "execute_result"
    }
   ],
   "source": [
    "y_test"
   ]
  },
  {
   "cell_type": "code",
   "execution_count": 14,
   "id": "aa0729e3",
   "metadata": {},
   "outputs": [
    {
     "data": {
      "text/plain": [
       "array(['Iris-setosa', 'Iris-virginica', 'Iris-virginica',\n",
       "       'Iris-virginica', 'Iris-setosa', 'Iris-setosa', 'Iris-setosa',\n",
       "       'Iris-setosa', 'Iris-setosa', 'Iris-versicolor', 'Iris-virginica',\n",
       "       'Iris-versicolor', 'Iris-versicolor', 'Iris-virginica',\n",
       "       'Iris-versicolor', 'Iris-setosa', 'Iris-versicolor', 'Iris-setosa',\n",
       "       'Iris-versicolor', 'Iris-versicolor', 'Iris-virginica',\n",
       "       'Iris-versicolor', 'Iris-setosa', 'Iris-versicolor',\n",
       "       'Iris-virginica', 'Iris-versicolor', 'Iris-virginica',\n",
       "       'Iris-setosa', 'Iris-virginica', 'Iris-setosa'], dtype=object)"
      ]
     },
     "execution_count": 14,
     "metadata": {},
     "output_type": "execute_result"
    }
   ],
   "source": [
    "y_pred"
   ]
  },
  {
   "cell_type": "code",
   "execution_count": 16,
   "id": "9f0cbcf7",
   "metadata": {},
   "outputs": [
    {
     "name": "stdout",
     "output_type": "stream",
     "text": [
      "정확도 0.9333333333333333 으로 최적의 k는 2 입니다.\n"
     ]
    }
   ],
   "source": [
    "# 최적의 k값 찾기\n",
    "k = 10\n",
    "acc_array = np.zeros(k)\n",
    "\n",
    "for k in np.arange(1, k+1, 1): # k는 1에서 10까지의 숫자를 가짐\n",
    "    classifier = KNeighborsClassifier(n_neighbors=k).fit(X_train, y_train) # for문 돌면서 k값 변경\n",
    "    y_pred = classifier.predict(X_test)\n",
    "    acc = metrics.accuracy_score(y_test, y_pred)\n",
    "    acc_array[k-1] = acc\n",
    "    \n",
    "max_acc = np.amax(acc_array, axis=0) # 행에서 가장 큰 값을 리턴 (2차원일 때 axis=0이면 행, axis=1이면 컬럼 별로 값 리턴해줌)\n",
    "acc_list = list(acc_array)\n",
    "k = acc_list.index(max_acc)\n",
    "print(\"정확도\", max_acc, \"으로 최적의 k는\", k+1, \"입니다.\")"
   ]
  },
  {
   "cell_type": "code",
   "execution_count": null,
   "id": "7ed34d4e",
   "metadata": {},
   "outputs": [],
   "source": []
  }
 ],
 "metadata": {
  "kernelspec": {
   "display_name": "Python 3 (ipykernel)",
   "language": "python",
   "name": "python3"
  },
  "language_info": {
   "codemirror_mode": {
    "name": "ipython",
    "version": 3
   },
   "file_extension": ".py",
   "mimetype": "text/x-python",
   "name": "python",
   "nbconvert_exporter": "python",
   "pygments_lexer": "ipython3",
   "version": "3.9.0"
  }
 },
 "nbformat": 4,
 "nbformat_minor": 5
}
